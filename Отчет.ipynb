{
  "cells": [
    {
      "cell_type": "markdown",
      "metadata": {
        "id": "wZYzhWVcFrqD"
      },
      "source": [
        "# Титульный лист\n",
        "<a name = 'Титульный_лист'>"
      ]
    },
    {
      "cell_type": "markdown",
      "metadata": {
        "id": "1MEmvdDVLb_o"
      },
      "source": [
        "<font face=\"times new roman\" size=\"3\" color=\"black\">\n",
        "<center> МИНИСТЕРСТВО ЦИФРОВОГО РАЗВИТИЯ, СВЯЗИ И МАССОВЫХ КОММУНИКАЦИЙ РОССИЙСКОЙ ФЕДЕРАЦИИ </center>\n",
        "<center>Ордена Трудового Красного Знамени федеральное государственное бюджетное образовательное учреждение высшего образования </center>\n",
        "<center> <strong> «Московский технический университет связи и информатики» </strong> </center>\n",
        "\n",
        "  <hr>\n",
        "<center> Кафедра «Телевидения и звукового вещания им. С.И. Катаева (ТиЗВ)» </center>\n",
        "<br>\n",
        "<center> <font face=\"times new roman\" size=\"3\" color=\"black\"> Отчет по практической работе №12 </center>\n",
        "<center>по дисциплине </center>\n",
        "<center><b>«Введение в информационные технологии»</b></center>\n",
        "<center>на тему</center>\n",
        "<center><b>«Системы контроля версий.»</b> </center>\n",
        "\n",
        "</font>\n",
        "\n",
        "  <br><br><br><br><br>\n",
        "  <p  align=\"right\"> <font face=\"times new roman\" size=\"3\" color=\"black\"> Выполнил: студент группы </p>\n",
        "  <p  align=\"right\"> <font face=\"times new roman\" size=\"3\" color=\"black\">       БИК2306 </p>\n",
        "  <p  align=\"right\"> <font face=\"times new roman\" size=\"3\" color=\"black\"> Морковкин Алексей Дмитриевич</p>\n",
        "  <p  align=\"right\"> <font face=\"times new roman\" size=\"3\" color=\"black\"> Проверил:</p>\n",
        "  <p  align=\"right\"> <font face=\"times new roman\" size=\"3\" color=\"black\"> Ассистент кафедры ТиЗВ Кудряшов Всеволод Владимирович </p>\n",
        "  <br>\n",
        "  <br>\n",
        "\n",
        "  <p  align=\"center\"> <font face=\"times new roman\" size=\"2\" color=\"black\"> Москва, 2023 г. </p>\n",
        "\n",
        "  <hr>"
      ]
    },
    {
      "cell_type": "markdown",
      "metadata": {
        "id": "27tTpmgd0wVE"
      },
      "source": [
        "\n",
        "\n",
        ">## Содержание\n",
        "\n"
      ]
    },
    {
      "cell_type": "markdown",
      "metadata": {
        "id": "taiGKIEC0wVE"
      },
      "source": [
        "[1. Титульный лист](#Титульный_лист)\n",
        "\n",
        "<a href = '#Постановка_задач'>2. Постановка задач </a>\n",
        "\n",
        "<a href = '#Цель_работы'>3. Цель работы </a>\n",
        "\n",
        "<a href = '#Задачи_работы'>4. Задачи работы </a>\n",
        "\n",
        "<a href = '#Расчет_исходных_данных'>5. Расчет исходных данных </a>\n",
        "\n",
        "<a href = '#Ход_работы'>6. Ход работы </a>\n",
        "\n",
        "<a href = '#Результаты'>7. Результат выполнения работы </a>"
      ]
    },
    {
      "cell_type": "markdown",
      "metadata": {
        "id": "7Xo3p89T0wVE"
      },
      "source": [
        "## Постановка задач\n",
        "<a name = 'Постановка_задач'>\n",
        "\n"
      ]
    },
    {
      "cell_type": "markdown",
      "metadata": {
        "id": "nFUyUiA90wVE"
      },
      "source": [
        "Задание для выполнения практической работы №12\n",
        "1. Установить GIT.\n",
        "2. Создать локальный репозиторий.\n",
        "3. Создать файл отчета по выполнению практической работы и поместить его в репозиторий\n",
        "4. Зафиксируйте в отчете все проделанные шаги и создайте версию отчета в GIT\n",
        "5. Создайте ветку отчета в GIT, добавьте описания шагов в отчет и создайте версию отчета в новой ветке.\n",
        "6. Слейте последнее изменение отчета в основную ветку.\n",
        "7. Регистрируемся на github (или используем уже существующий аккаунт), создаем проект «homework IIT», залете содержимое из локального репозитория в проект на github.\n",
        "8. Завершить отчет, добавив описание всех пунктов."
      ]
    },
    {
      "cell_type": "markdown",
      "metadata": {
        "id": "Rp2I9t3bK5Pb"
      },
      "source": [
        "## Цель работы\n",
        "<a name = 'Цель_работы'>\n",
        "\n"
      ]
    },
    {
      "cell_type": "markdown",
      "metadata": {
        "id": "ZNC7A8090wVF"
      },
      "source": [
        "Регулярный выражения"
      ]
    },
    {
      "cell_type": "markdown",
      "metadata": {
        "id": "35cISKAM0wVF"
      },
      "source": [
        "## Задачи работы\n",
        "<a name = 'Задачи_работы'>"
      ]
    },
    {
      "cell_type": "markdown",
      "metadata": {
        "id": "hvFcgeKZLvvA"
      },
      "source": [
        "1. Установить GIT.\n",
        "2. Создать локальный репозиторий.\n",
        "3. Создать файл отчета по выполнению практической работы и поместить его в репозиторий\n",
        "4. Зафиксируйте в отчете все проделанные шаги и создайте версию отчета в GIT\n",
        "5. Создайте ветку отчета в GIT, добавьте описания шагов в отчет и создайте версию отчета в новой ветке.\n",
        "6. Слейте последнее изменение отчета в основную ветку.\n",
        "7. Регистрируемся на github (или используем уже существующий аккаунт), создаем проект «homework IIT», залете содержимое из локального репозитория в проект на github.\n",
        "8. Завершить отчет, добавив описание всех пунктов."
      ]
    },
    {
      "cell_type": "markdown",
      "metadata": {
        "id": "T-Qf2ZUB0wVF"
      },
      "source": [
        "## Расчет исходных данных"
      ]
    },
    {
      "cell_type": "markdown",
      "metadata": {
        "id": "D659BqyA0wVF"
      },
      "source": [
        "1. Среда выполнения sql\n",
        "2. База данных sqlite"
      ]
    },
    {
      "cell_type": "markdown",
      "metadata": {
        "id": "z3YpbGx3KMlA"
      },
      "source": [
        "# Ход работы\n",
        "<a name = 'Ход_работы'>"
      ]
    },
    {
      "cell_type": "markdown",
      "metadata": {},
      "source": [
        "1. Windows: Официальная сборка Git доступна для скачивания на сайте Git по ссылке: https://git-scm.com/download/win. Скачиваем.\n",
        "2. введем команду git init в папке с отчетом.\n",
        "3. Создаем файл `Отчет.ipynb`, кидаем его в папку. Добавляем master ветку введя git branch -M master. Фиксируем изменения введя git add --all. Коммитим изменения в branch: git commit -m \"Фиксация изменений Отчета\"\n",
        "4. Создаем новую ветку git branch -m log, переключаемся на эту ветку: git checkout log, добавляем все изменения: git add --all\n",
        "5. Коммитим изменения в ветку git commit -m \"новая версия отчета в ветке дog\""
      ]
    },
    {
      "cell_type": "markdown",
      "metadata": {
        "id": "nMlX7UTSKQlo"
      },
      "source": [
        "# Результат выполнения работы\n",
        "<a name = 'Результаты'>"
      ]
    },
    {
      "cell_type": "markdown",
      "metadata": {
        "id": "kD2a6Tj70wVG"
      },
      "source": [
        "В результате выполнения задачи мы получили таблицу в базе данных с данными."
      ]
    },
    {
      "cell_type": "markdown",
      "metadata": {
        "id": "eVdpU4HE0wVG"
      },
      "source": [
        "# Контрольное задание на защиту"
      ]
    }
  ],
  "metadata": {
    "colab": {
      "provenance": []
    },
    "kernelspec": {
      "display_name": "Python 3",
      "name": "python3"
    },
    "language_info": {
      "name": "python"
    }
  },
  "nbformat": 4,
  "nbformat_minor": 0
}
